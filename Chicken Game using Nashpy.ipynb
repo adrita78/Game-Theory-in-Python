{
  "nbformat": 4,
  "nbformat_minor": 0,
  "metadata": {
    "colab": {
      "name": "Untitled7.ipynb",
      "provenance": []
    },
    "kernelspec": {
      "name": "python3",
      "display_name": "Python 3"
    }
  },
  "cells": [
    {
      "cell_type": "code",
      "metadata": {
        "id": "o2VNDva76BXI"
      },
      "source": [
        ""
      ],
      "execution_count": null,
      "outputs": []
    },
    {
      "cell_type": "code",
      "metadata": {
        "id": "9pE5lgP_rCm6",
        "colab": {
          "base_uri": "https://localhost:8080/",
          "height": 904
        },
        "outputId": "1be2ef62-64b2-40a9-c7d4-0014e8ff44a3"
      },
      "source": [
        "!pip install nashpy\n",
        "!pip install axelrod\n",
        "\n",
        "import nashpy as nash\n",
        "import numpy as np\n"
      ],
      "execution_count": null,
      "outputs": [
        {
          "output_type": "stream",
          "text": [
            "Collecting nashpy\n",
            "  Downloading https://files.pythonhosted.org/packages/ad/a2/5d36744511640db1869029d2ab324b55f6eaaa2a51f75a87408a7e8000f4/nashpy-0.0.19.tar.gz\n",
            "Requirement already satisfied: numpy>=1.12.1 in /usr/local/lib/python3.6/dist-packages (from nashpy) (1.18.5)\n",
            "Requirement already satisfied: scipy>=0.19.0 in /usr/local/lib/python3.6/dist-packages (from nashpy) (1.4.1)\n",
            "Building wheels for collected packages: nashpy\n",
            "  Building wheel for nashpy (setup.py) ... \u001b[?25l\u001b[?25hdone\n",
            "  Created wheel for nashpy: filename=nashpy-0.0.19-cp36-none-any.whl size=10815 sha256=d6909c24ecfeb21bc299fe36971ae33fba0a33d2bc78d2321a7895901cc07b1e\n",
            "  Stored in directory: /root/.cache/pip/wheels/18/e9/56/2d04d01a6969d167f86d3afcb3d128c0b43d0d73ea471c835b\n",
            "Successfully built nashpy\n",
            "Installing collected packages: nashpy\n",
            "Successfully installed nashpy-0.0.19\n",
            "Collecting axelrod\n",
            "\u001b[?25l  Downloading https://files.pythonhosted.org/packages/58/e1/00d31360eae2cacf2c2fbaf4af822aaf22a9059b97b78a696db8e55569cb/Axelrod-4.10.0-py2.py3-none-any.whl (193kB)\n",
            "\u001b[K     |████████████████████████████████| 194kB 5.0MB/s \n",
            "\u001b[?25hRequirement already satisfied: dask>=2.9.2 in /usr/local/lib/python3.6/dist-packages (from axelrod) (2.12.0)\n",
            "Requirement already satisfied: pandas>=1.0.0 in /usr/local/lib/python3.6/dist-packages (from axelrod) (1.1.4)\n",
            "Requirement already satisfied: matplotlib>=3.0.3 in /usr/local/lib/python3.6/dist-packages (from axelrod) (3.2.2)\n",
            "Collecting prompt-toolkit>=3.0\n",
            "\u001b[?25l  Downloading https://files.pythonhosted.org/packages/8a/aa/198e6a857e83ea8b711a6ae0c37717c0eb1b23ff52e3732a644fcd389cb3/prompt_toolkit-3.0.8-py3-none-any.whl (355kB)\n",
            "\u001b[K     |████████████████████████████████| 358kB 12.9MB/s \n",
            "\u001b[?25hRequirement already satisfied: cloudpickle>=0.2.2 in /usr/local/lib/python3.6/dist-packages (from axelrod) (1.3.0)\n",
            "Requirement already satisfied: toolz>=0.8.2 in /usr/local/lib/python3.6/dist-packages (from axelrod) (0.11.1)\n",
            "Requirement already satisfied: tqdm>=4.39.0 in /usr/local/lib/python3.6/dist-packages (from axelrod) (4.41.1)\n",
            "Requirement already satisfied: pyyaml>=3.01 in /usr/local/lib/python3.6/dist-packages (from axelrod) (3.13)\n",
            "Requirement already satisfied: scipy>=1.3.3 in /usr/local/lib/python3.6/dist-packages (from axelrod) (1.4.1)\n",
            "Collecting fsspec>=0.6.0\n",
            "\u001b[?25l  Downloading https://files.pythonhosted.org/packages/a5/8b/1df260f860f17cb08698170153ef7db672c497c1840dcc8613ce26a8a005/fsspec-0.8.4-py3-none-any.whl (91kB)\n",
            "\u001b[K     |████████████████████████████████| 92kB 9.2MB/s \n",
            "\u001b[?25hRequirement already satisfied: numpy>=1.17.4 in /usr/local/lib/python3.6/dist-packages (from axelrod) (1.18.5)\n",
            "Requirement already satisfied: pytz>=2017.2 in /usr/local/lib/python3.6/dist-packages (from pandas>=1.0.0->axelrod) (2018.9)\n",
            "Requirement already satisfied: python-dateutil>=2.7.3 in /usr/local/lib/python3.6/dist-packages (from pandas>=1.0.0->axelrod) (2.8.1)\n",
            "Requirement already satisfied: kiwisolver>=1.0.1 in /usr/local/lib/python3.6/dist-packages (from matplotlib>=3.0.3->axelrod) (1.3.1)\n",
            "Requirement already satisfied: cycler>=0.10 in /usr/local/lib/python3.6/dist-packages (from matplotlib>=3.0.3->axelrod) (0.10.0)\n",
            "Requirement already satisfied: pyparsing!=2.0.4,!=2.1.2,!=2.1.6,>=2.0.1 in /usr/local/lib/python3.6/dist-packages (from matplotlib>=3.0.3->axelrod) (2.4.7)\n",
            "Requirement already satisfied: wcwidth in /usr/local/lib/python3.6/dist-packages (from prompt-toolkit>=3.0->axelrod) (0.2.5)\n",
            "Requirement already satisfied: six>=1.5 in /usr/local/lib/python3.6/dist-packages (from python-dateutil>=2.7.3->pandas>=1.0.0->axelrod) (1.15.0)\n",
            "\u001b[31mERROR: jupyter-console 5.2.0 has requirement prompt-toolkit<2.0.0,>=1.0.0, but you'll have prompt-toolkit 3.0.8 which is incompatible.\u001b[0m\n",
            "\u001b[31mERROR: ipython 5.5.0 has requirement prompt-toolkit<2.0.0,>=1.0.4, but you'll have prompt-toolkit 3.0.8 which is incompatible.\u001b[0m\n",
            "Installing collected packages: prompt-toolkit, fsspec, axelrod\n",
            "  Found existing installation: prompt-toolkit 1.0.18\n",
            "    Uninstalling prompt-toolkit-1.0.18:\n",
            "      Successfully uninstalled prompt-toolkit-1.0.18\n",
            "Successfully installed axelrod-4.10.0 fsspec-0.8.4 prompt-toolkit-3.0.8\n"
          ],
          "name": "stdout"
        },
        {
          "output_type": "display_data",
          "data": {
            "application/vnd.colab-display-data+json": {
              "pip_warning": {
                "packages": [
                  "prompt_toolkit"
                ]
              }
            }
          },
          "metadata": {
            "tags": []
          }
        }
      ]
    },
    {
      "cell_type": "code",
      "metadata": {
        "id": "whv7MFGU6YEt",
        "colab": {
          "base_uri": "https://localhost:8080/"
        },
        "outputId": "41aa3bc4-df3b-4e55-8e37-fb55f543040d"
      },
      "source": [
        "P1 = np.array([[-6,2],[-2,1]])\n",
        "P2 = np.array([[-6,-2],[2,1]])\n",
        "gm = nash.Game(P1,P2)\n",
        "gm"
      ],
      "execution_count": null,
      "outputs": [
        {
          "output_type": "execute_result",
          "data": {
            "text/plain": [
              "Bi matrix game with payoff matrices:\n",
              "\n",
              "Row player:\n",
              "[[-6  2]\n",
              " [-2  1]]\n",
              "\n",
              "Column player:\n",
              "[[-6 -2]\n",
              " [ 2  1]]"
            ]
          },
          "metadata": {
            "tags": []
          },
          "execution_count": 2
        }
      ]
    },
    {
      "cell_type": "code",
      "metadata": {
        "id": "a55Ir-Mb7f3T",
        "colab": {
          "base_uri": "https://localhost:8080/"
        },
        "outputId": "cfb21407-453d-48dd-a0d3-2bea94715e9a"
      },
      "source": [
        "equilibria = gm.support_enumeration()\n",
        "for eq in equilibria:\n",
        "  print(eq)"
      ],
      "execution_count": null,
      "outputs": [
        {
          "output_type": "stream",
          "text": [
            "(array([1., 0.]), array([0., 1.]))\n",
            "(array([0., 1.]), array([1., 0.]))\n",
            "(array([0.2, 0.8]), array([0.2, 0.8]))\n"
          ],
          "name": "stdout"
        }
      ]
    }
  ]
}